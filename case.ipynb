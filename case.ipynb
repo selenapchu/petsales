import pandas as pd
pet = pd.read_csv("pet_sales.csv")
pet.head()
